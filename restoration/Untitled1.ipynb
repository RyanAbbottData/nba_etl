{
 "cells": [
  {
   "cell_type": "code",
   "execution_count": 17,
   "id": "d0f12305",
   "metadata": {},
   "outputs": [
    {
     "name": "stdout",
     "output_type": "stream",
     "text": [
      "ConferenceRecord     0\n",
      "HOME                 0\n",
      "ROAD                 0\n",
      "OT                   5\n",
      "ThreePTSOrLess       0\n",
      "TenPTSOrMore         0\n",
      "AheadAtHalf          0\n",
      "BehindAtHalf         5\n",
      "TiedAtHalf          40\n",
      "AheadAtThird         0\n",
      "BehindAtThird        2\n",
      "TiedAtThird         44\n",
      "Score100PTS          0\n",
      "OppScore100PTS       0\n",
      "OppOver500          28\n",
      "LeadInFGPCT          0\n",
      "LeadInReb            0\n",
      "FewerTurnovers       0\n",
      "DiffPointsPG         0\n",
      "Conference_East      0\n",
      "Conference_West      0\n",
      "dtype: int64\n"
     ]
    }
   ],
   "source": [
    "import os\n",
    "import sys\n",
    "\n",
    "import pandas as pd\n",
    "import pickle\n",
    "from sklearn.linear_model import LogisticRegression, LinearRegression\n",
    "from sklearn.ensemble import RandomForestClassifier\n",
    "\n",
    "\n",
    "# Determine the project root directory\n",
    "project_root = os.path.abspath(os.path.join(os.getcwd(), \"..\"))\n",
    "if project_root not in sys.path:\n",
    "    sys.path.append(project_root)\n",
    "\n",
    "from utils.models import save_model\n",
    "from utils.formats import encode_column, get_win_pct_from_record\n",
    "\n",
    "df = pd.read_csv(\"../data/team_season_data.csv\")\n",
    "\n",
    "df['WinPCT'] = df[\"WINS\"] / (df[\"WINS\"] + df['LOSSES'])\n",
    "\n",
    "x_columns = ['Conference', 'ConferenceRecord', 'HOME', 'ROAD', 'OT', 'ThreePTSOrLess', 'TenPTSOrMore',\n",
    "       'AheadAtHalf', 'BehindAtHalf', 'TiedAtHalf', 'AheadAtThird',\n",
    "       'BehindAtThird', 'TiedAtThird', 'Score100PTS', 'OppScore100PTS',\n",
    "       'OppOver500', 'LeadInFGPCT', 'LeadInReb', 'FewerTurnovers', 'DiffPointsPG']\n",
    "\n",
    "y_column = 'WinPCT'\n",
    "\n",
    "x = df[x_columns]\n",
    "y = df[y_column]\n",
    "\n",
    "x = encode_column(col=\"Conference\", x=x)\n",
    "\n",
    "record_cols = ['ConferenceRecord', 'HOME', 'ROAD', 'OT', 'ThreePTSOrLess', 'TenPTSOrMore',\n",
    "       'AheadAtHalf', 'BehindAtHalf', 'TiedAtHalf', 'AheadAtThird',\n",
    "       'BehindAtThird', 'TiedAtThird', 'Score100PTS', 'OppScore100PTS',\n",
    "       'OppOver500', 'LeadInFGPCT', 'LeadInReb', 'FewerTurnovers']\n",
    "\n",
    "x[record_cols] = x[record_cols].applymap(lambda z: get_win_pct_from_record(z))\n",
    "\n",
    "print(x.isna().sum())  # Check for missing values\n",
    "x = x.dropna()  # Remove rows with missing values if any\n",
    "y = y.iloc[x.index]\n",
    "\n",
    "#model_log = LogisticRegression(max_iter=1000).fit(x,y)\n",
    "model_lin = LinearRegression().fit(x,y)\n",
    "#model_rand_for = RandomForestClassifier().fit(x,y)\n",
    "\n",
    "path = \"../models/\"\n",
    "#save_model(path + \"team_model_log.pkl\", model_log)\n",
    "save_model(path + \"team_model_lin.pkl\", model_lin)\n",
    "#save_model(path + \"team_model_rand_for.pkl\", model_rand_for)"
   ]
  },
  {
   "cell_type": "code",
   "execution_count": null,
   "id": "f7451655",
   "metadata": {},
   "outputs": [],
   "source": [
    "get_win_pct_from_record(\"40-24\")"
   ]
  },
  {
   "cell_type": "code",
   "execution_count": 13,
   "id": "46b2c4bf",
   "metadata": {},
   "outputs": [
    {
     "data": {
      "text/plain": [
       "0      0.682927\n",
       "1      0.707317\n",
       "2      0.682927\n",
       "3      0.634146\n",
       "4      0.609756\n",
       "         ...   \n",
       "711    0.256098\n",
       "712    0.182927\n",
       "713    0.268293\n",
       "714    0.256098\n",
       "715    0.170732\n",
       "Name: WinPCT, Length: 716, dtype: float64"
      ]
     },
     "execution_count": 13,
     "metadata": {},
     "output_type": "execute_result"
    }
   ],
   "source": [
    "df[y_column]"
   ]
  },
  {
   "cell_type": "code",
   "execution_count": 18,
   "id": "809aeaf6",
   "metadata": {},
   "outputs": [
    {
     "data": {
      "text/plain": [
       "Index(['Unnamed: 0', 'LeagueID', 'SeasonID', 'TeamID', 'TeamCity', 'TeamName',\n",
       "       'Conference', 'ConferenceRecord', 'PlayoffRank', 'ClinchIndicator',\n",
       "       'Division', 'DivisionRecord', 'DivisionRank', 'WINS', 'LOSSES',\n",
       "       'WinPCT', 'LeagueRank', 'Record', 'HOME', 'ROAD', 'L10', 'Last10Home',\n",
       "       'Last10Road', 'OT', 'ThreePTSOrLess', 'TenPTSOrMore', 'LongHomeStreak',\n",
       "       'strLongHomeStreak', 'LongRoadStreak', 'strLongRoadStreak',\n",
       "       'LongWinStreak', 'LongLossStreak', 'CurrentHomeStreak',\n",
       "       'strCurrentHomeStreak', 'CurrentRoadStreak', 'strCurrentRoadStreak',\n",
       "       'CurrentStreak', 'strCurrentStreak', 'ConferenceGamesBack',\n",
       "       'DivisionGamesBack', 'ClinchedConferenceTitle', 'ClinchedDivisionTitle',\n",
       "       'ClinchedPlayoffBirth', 'EliminatedConference', 'EliminatedDivision',\n",
       "       'AheadAtHalf', 'BehindAtHalf', 'TiedAtHalf', 'AheadAtThird',\n",
       "       'BehindAtThird', 'TiedAtThird', 'Score100PTS', 'OppScore100PTS',\n",
       "       'OppOver500', 'LeadInFGPCT', 'LeadInReb', 'FewerTurnovers', 'PointsPG',\n",
       "       'OppPointsPG', 'DiffPointsPG', 'vsEast', 'vsAtlantic', 'vsCentral',\n",
       "       'vsWest', 'vsPacific', 'vsMidwest', 'Jan', 'Feb', 'Mar', 'Apr', 'May',\n",
       "       'Jun', 'Jul', 'Aug', 'Sep', 'Oct', 'Nov', 'Dec', 'PreAS', 'PostAS',\n",
       "       'season_end_year', 'season', 'vsSoutheast', 'vsNorthwest',\n",
       "       'vsSouthwest'],\n",
       "      dtype='object')"
      ]
     },
     "execution_count": 18,
     "metadata": {},
     "output_type": "execute_result"
    }
   ],
   "source": [
    "df.columns"
   ]
  },
  {
   "cell_type": "code",
   "execution_count": null,
   "id": "9525e47e",
   "metadata": {},
   "outputs": [],
   "source": []
  }
 ],
 "metadata": {
  "kernelspec": {
   "display_name": "Python 3",
   "language": "python",
   "name": "python3"
  },
  "language_info": {
   "codemirror_mode": {
    "name": "ipython",
    "version": 3
   },
   "file_extension": ".py",
   "mimetype": "text/x-python",
   "name": "python",
   "nbconvert_exporter": "python",
   "pygments_lexer": "ipython3",
   "version": "3.8.8"
  }
 },
 "nbformat": 4,
 "nbformat_minor": 5
}
