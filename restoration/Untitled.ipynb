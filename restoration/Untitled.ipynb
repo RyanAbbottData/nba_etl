{
 "cells": [
  {
   "cell_type": "code",
   "execution_count": 2,
   "id": "1b8f2443",
   "metadata": {},
   "outputs": [
    {
     "name": "stdout",
     "output_type": "stream",
     "text": [
      "     season_end_year   season      TeamCity       TeamName Conference  \\\n",
      "0               2001  2000-01  Philadelphia          76ers       East   \n",
      "1               2001  2000-01   San Antonio          Spurs       West   \n",
      "2               2001  2000-01   Los Angeles         Lakers       West   \n",
      "3               2001  2000-01     Milwaukee          Bucks       East   \n",
      "4               2001  2000-01         Miami           Heat       East   \n",
      "..               ...      ...           ...            ...        ...   \n",
      "711             2024  2023-24     Charlotte        Hornets       East   \n",
      "712             2024  2023-24    Washington        Wizards       East   \n",
      "713             2024  2023-24   San Antonio          Spurs       West   \n",
      "714             2024  2023-24      Portland  Trail Blazers       West   \n",
      "715             2024  2023-24       Detroit        Pistons       East   \n",
      "\n",
      "    ConferenceRecord  WINS  LOSSES  WinPCT  LeagueRank  ... OppScore100PTS  \\\n",
      "0              40-14    56      26   0.683         NaN  ...            7-8   \n",
      "1              39-13    58      24   0.707         NaN  ...           5-14   \n",
      "2              34-18    56      26   0.683         NaN  ...          20-16   \n",
      "3              38-16    52      30   0.634         NaN  ...          10-23   \n",
      "4              34-20    50      32   0.610         NaN  ...            2-6   \n",
      "..               ...   ...     ...     ...         ...  ...            ...   \n",
      "711            14-38    21      61   0.256         NaN  ...          17-58   \n",
      "712            11-41    15      67   0.183         NaN  ...          14-66   \n",
      "713            14-37    22      60   0.268         NaN  ...          18-58   \n",
      "714            8-44     21      61   0.256         NaN  ...          17-59   \n",
      "715            10-41    14      68   0.171         NaN  ...          9-68    \n",
      "\n",
      "    OppOver500 LeadInFGPCT LeadInReb FewerTurnovers PointsPG  OppPointsPG  \\\n",
      "0          0-0        45-3     40-12           29-8     94.7         90.4   \n",
      "1          0-1        53-5     40-11           26-9     96.2         88.4   \n",
      "2          0-0        49-7     40-10          16-10    100.6         97.2   \n",
      "3          0-0        41-8      29-7          37-17    100.7         96.9   \n",
      "4          0-0        35-4      24-7          35-20     88.9         86.6   \n",
      "..         ...         ...       ...            ...      ...          ...   \n",
      "711      10-43       18-9      12-9           10-29    106.6        116.8   \n",
      "712      4-46        13-11     8-4            8-29     113.7        123.0   \n",
      "713      11-39       16-11     15-19          7-20     112.1        118.6   \n",
      "714      8-41        15-8      16-23          12-19    106.4        115.4   \n",
      "715      5-47        13-17     11-25          4-17     109.9        119.0   \n",
      "\n",
      "    DiffPointsPG  PreAS  PostAS  \n",
      "0            4.3  36-14   20-12  \n",
      "1            7.8  31-16    27-8  \n",
      "2            3.4  31-16   25-10  \n",
      "3            3.8  29-18   23-12  \n",
      "4            2.3  30-20   20-12  \n",
      "..           ...    ...     ...  \n",
      "711        -10.2  13-41    8-20  \n",
      "712         -9.3   9-45    6-22  \n",
      "713         -6.5  11-44   11-16  \n",
      "714         -9.0  15-39    6-22  \n",
      "715         -9.1   8-46    6-22  \n",
      "\n",
      "[716 rows x 42 columns]\n"
     ]
    }
   ],
   "source": [
    "import pandas as pd\n",
    "\n",
    "\n",
    "\n",
    "df = pd.read_csv(\"../data/team_season_data.csv\")\n",
    "\n",
    "x_columns = ['season_end_year', 'season', 'TeamCity', 'TeamName', 'Conference', 'ConferenceRecord', 'WINS', 'LOSSES',\n",
    "       'WinPCT', 'LeagueRank', 'Record', 'HOME', 'ROAD', 'OT', 'ThreePTSOrLess', 'TenPTSOrMore', 'LongHomeStreak',\n",
    "       'strLongHomeStreak', 'ConferenceGamesBack',\n",
    "       'DivisionGamesBack', 'ClinchedConferenceTitle', 'ClinchedDivisionTitle',\n",
    "       'ClinchedPlayoffBirth', 'EliminatedConference', 'EliminatedDivision',\n",
    "       'AheadAtHalf', 'BehindAtHalf', 'TiedAtHalf', 'AheadAtThird',\n",
    "       'BehindAtThird', 'TiedAtThird', 'Score100PTS', 'OppScore100PTS',\n",
    "       'OppOver500', 'LeadInFGPCT', 'LeadInReb', 'FewerTurnovers', 'PointsPG',\n",
    "       'OppPointsPG', 'DiffPointsPG', 'PreAS', 'PostAS',]\n",
    "\n",
    "print(df[x_columns])"
   ]
  }
 ],
 "metadata": {
  "kernelspec": {
   "display_name": "Python 3",
   "language": "python",
   "name": "python3"
  },
  "language_info": {
   "codemirror_mode": {
    "name": "ipython",
    "version": 3
   },
   "file_extension": ".py",
   "mimetype": "text/x-python",
   "name": "python",
   "nbconvert_exporter": "python",
   "pygments_lexer": "ipython3",
   "version": "3.8.8"
  }
 },
 "nbformat": 4,
 "nbformat_minor": 5
}
